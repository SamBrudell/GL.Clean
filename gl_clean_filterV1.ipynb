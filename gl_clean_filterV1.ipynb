{
  "nbformat": 4,
  "nbformat_minor": 0,
  "metadata": {
    "colab": {
      "provenance": [],
      "authorship_tag": "ABX9TyOexP+dfE+SXBLN92ENZ5uH",
      "include_colab_link": true
    },
    "kernelspec": {
      "name": "python3",
      "display_name": "Python 3"
    },
    "language_info": {
      "name": "python"
    }
  },
  "cells": [
    {
      "cell_type": "markdown",
      "metadata": {
        "id": "view-in-github",
        "colab_type": "text"
      },
      "source": [
        "<a href=\"https://colab.research.google.com/github/SamBrudell/GL.Clean/blob/Gl.Clean.Filter/gl_clean_filterV1.ipynb\" target=\"_parent\"><img src=\"https://colab.research.google.com/assets/colab-badge.svg\" alt=\"Open In Colab\"/></a>"
      ]
    },
    {
      "cell_type": "code",
      "execution_count": 43,
      "metadata": {
        "id": "kO-3F44KP4t2",
        "outputId": "9c68a4c5-c039-4d4d-c3a6-0fbb630c5df0",
        "colab": {
          "base_uri": "https://localhost:8080/"
        }
      },
      "outputs": [
        {
          "output_type": "stream",
          "name": "stdout",
          "text": [
            "Mounted at /content/drive\n"
          ]
        },
        {
          "output_type": "stream",
          "name": "stderr",
          "text": [
            "Downloading...\n",
            "From: https://drive.google.com/uc?id=1pR8Jp7zOGV5OmWVa_5VuFBQlppK15Hi4\n",
            "To: /content/downloaded_file.csv\n",
            "100%|██████████| 19.2M/19.2M [00:00<00:00, 120MB/s]\n"
          ]
        },
        {
          "output_type": "stream",
          "name": "stdout",
          "text": [
            "File downloaded to: downloaded_file.csv\n",
            "File read successfully!\n",
            "Filtered CSV file saved to Google Drive at: /content/drive/My Drive/filtered_file.csv\n"
          ]
        }
      ],
      "source": [
        "import gdown\n",
        "import pandas as pd\n",
        "import re\n",
        "from google.colab import drive\n",
        "\n",
        "# Step 1: Mount Google Drive\n",
        "drive.mount('/content/drive')  # This will prompt you for authentication\n",
        "\n",
        "# Google Drive file ID (replace with your actual file ID)\n",
        "file_id = '1pR8Jp7zOGV5OmWVa_5VuFBQlppK15Hi4'  # Replace with your actual file ID from the URL\n",
        "url = f'https://drive.google.com/uc?id={file_id}'\n",
        "\n",
        "# Download the file from Google Drive\n",
        "output_file_path = 'downloaded_file.csv'  # Local path to save the downloaded file\n",
        "gdown.download(url, output_file_path, quiet=False)\n",
        "\n",
        "# Print the file path being used\n",
        "print(f\"File downloaded to: {output_file_path}\")\n",
        "\n",
        "# Now read the CSV file with encoding handling\n",
        "try:\n",
        "    df = pd.read_csv(output_file_path, encoding='ISO-8859-1')  # Try using 'ISO-8859-1' encoding\n",
        "    print(\"File read successfully!\")\n",
        "except UnicodeDecodeError:\n",
        "    print(f\"Error reading the file with 'ISO-8859-1' encoding, trying 'utf-16' encoding...\")\n",
        "    df = pd.read_csv(output_file_path, encoding='utf-16')\n",
        "\n",
        "# List the columns to delete (by name)\n",
        "columns_to_delete = ['GL Date']  # Delete the 'GL Date' column\n",
        "\n",
        "# Delete specified columns if they exist in the sheet\n",
        "df = df.drop(columns=[col for col in columns_to_delete if col in df.columns], errors='ignore')\n",
        "\n",
        "# Function to extract the numeric value from a string (text format)\n",
        "def extract_numeric_value(text):\n",
        "    match = re.search(r'(\\d+\\.?\\d*)', str(text))\n",
        "    if match:\n",
        "        return float(match.group(1))  # Return as float\n",
        "    return None  # Return None if no numeric part is found\n",
        "\n",
        "# If 'Account' column exists, extract numeric values and filter\n",
        "if 'Account' in df.columns:\n",
        "    df['Account_numeric'] = df['Account'].apply(extract_numeric_value)\n",
        "    df = df[df['Account_numeric'] > 1500]\n",
        "    df = df.drop(columns=['Account_numeric'])\n",
        "\n",
        "# Step 2: Save the filtered file to Google Drive\n",
        "output_file_path_filtered = '/content/drive/My Drive/filtered_file.csv'\n",
        "\n",
        "# Write the modified data back to a new CSV file in Google Drive\n",
        "df.to_csv(output_file_path_filtered, index=False)\n",
        "\n",
        "print(f\"Filtered CSV file saved to Google Drive at: {output_file_path_filtered}\")\n",
        "\n"
      ]
    }
  ]
}