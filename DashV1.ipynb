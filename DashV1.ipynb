{
  "nbformat": 4,
  "nbformat_minor": 0,
  "metadata": {
    "colab": {
      "provenance": [],
      "authorship_tag": "ABX9TyO6AGClZGe25udj0rJEgdMK",
      "include_colab_link": true
    },
    "kernelspec": {
      "name": "python3",
      "display_name": "Python 3"
    },
    "language_info": {
      "name": "python"
    }
  },
  "cells": [
    {
      "cell_type": "markdown",
      "metadata": {
        "id": "view-in-github",
        "colab_type": "text"
      },
      "source": [
        "<a href=\"https://colab.research.google.com/github/SamBrudell/GL.Clean/blob/main/DashV1.ipynb\" target=\"_parent\"><img src=\"https://colab.research.google.com/assets/colab-badge.svg\" alt=\"Open In Colab\"/></a>"
      ]
    },
    {
      "cell_type": "code",
      "execution_count": 3,
      "metadata": {
        "colab": {
          "base_uri": "https://localhost:8080/",
          "height": 106
        },
        "id": "Mvja6PKmrpup",
        "outputId": "d4498d28-7908-4be2-d218-3c75e6cda599"
      },
      "outputs": [
        {
          "output_type": "error",
          "ename": "SyntaxError",
          "evalue": "invalid syntax (<ipython-input-3-50a472b1e2cc>, line 1)",
          "traceback": [
            "\u001b[0;36m  File \u001b[0;32m\"<ipython-input-3-50a472b1e2cc>\"\u001b[0;36m, line \u001b[0;32m1\u001b[0m\n\u001b[0;31m    pip install dash\u001b[0m\n\u001b[0m        ^\u001b[0m\n\u001b[0;31mSyntaxError\u001b[0m\u001b[0;31m:\u001b[0m invalid syntax\n"
          ]
        }
      ],
      "source": [
        "pip install dash\n",
        "import gdown\n",
        "from google.colab import drive\n",
        "import dash\n",
        "from dash import dcc, html\n",
        "import plotly.express as px\n",
        "import pandas as pd\n",
        "\n",
        "# Mount Google Drive\n",
        "drive.mount('/content/drive')  #  authentication prompt\n",
        "\n",
        "# Google Drive file ID (replace with your actual file ID)\n",
        "file_id = '1pR8Jp7zOGV5OmWVa_5VuFBQlppK15Hi4'  # Replace with your actual file ID from the URL\n",
        "url = f'https://drive.google.com/uc?id={file_id}'\n",
        "\n",
        "# Download file from Google Drive\n",
        "output_file_path = 'downloaded_file.csv'  # Local path to save the downloaded file\n",
        "gdown.download(url, output_file_path, quiet=False)\n",
        "\n",
        "# Print the file path being used\n",
        "print(f\"File downloaded to: {output_file_path}\")\n",
        "\n",
        "# Read the CSV file with encoding handling\n",
        "try:\n",
        "    df = pd.read_csv(output_file_path, encoding='ISO-8859-1')  # Try using 'ISO-8859-1' encoding\n",
        "    print(\"File read successfully!\")\n",
        "except UnicodeDecodeError:\n",
        "    print(f\"Error reading the file with 'ISO-8859-1' encoding, trying 'utf-16' encoding...\")\n",
        "    df = pd.read_csv(output_file_path, encoding='utf-16')\n",
        "\n",
        "# Initialize Dash app\n",
        "app = dash.Dash(__name__)\n",
        "\n",
        "# Create a simple plotly graph (for example, scatter plot)\n",
        "fig = px.scatter(df, x='Column1', y='Column2', title=\"Scatter Plot from Excel Data\")\n",
        "\n",
        "# App layout\n",
        "app.layout = html.Div([\n",
        "    html.H1(\"Dashboard with Excel Data\"),\n",
        "    dcc.Graph(\n",
        "        id='example-graph',\n",
        "        figure=fig\n",
        "    ),\n",
        "    html.Div([\n",
        "        html.H4(\"Raw Data from Excel File\"),\n",
        "        html.Div([\n",
        "            # Display the first few rows of the data as a table\n",
        "            html.Table([\n",
        "                html.Tr([html.Th(col) for col in df.columns])  # Table headers\n",
        "            ] + [\n",
        "                html.Tr([html.Td(df.iloc[i][col]) for col in df.columns])  # Table rows\n",
        "                for i in range(min(10, len(df)))  # Show the first 10 rows of data\n",
        "            ])\n",
        "        ])\n",
        "    ])\n",
        "])\n",
        "\n",
        "# Run the app\n",
        "if __name__ == '__main__':\n",
        "    app.run_server(debug=True)"
      ]
    }
  ]
}