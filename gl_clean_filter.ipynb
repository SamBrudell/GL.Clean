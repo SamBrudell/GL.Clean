{
  "nbformat": 4,
  "nbformat_minor": 0,
  "metadata": {
    "colab": {
      "provenance": [],
      "authorship_tag": "ABX9TyMp6PJHq/0jP48ly7xObVjb",
      "include_colab_link": true
    },
    "kernelspec": {
      "name": "python3",
      "display_name": "Python 3"
    },
    "language_info": {
      "name": "python"
    }
  },
  "cells": [
    {
      "cell_type": "markdown",
      "metadata": {
        "id": "view-in-github",
        "colab_type": "text"
      },
      "source": [
        "<a href=\"https://colab.research.google.com/github/SamBrudell/GL.Clean/blob/Gl.Clean.Filter/gl_clean_filter.ipynb\" target=\"_parent\"><img src=\"https://colab.research.google.com/assets/colab-badge.svg\" alt=\"Open In Colab\"/></a>"
      ]
    },
    {
      "cell_type": "code",
      "execution_count": null,
      "metadata": {
        "id": "kO-3F44KP4t2"
      },
      "outputs": [],
      "source": [
        "import pandas as pd\n",
        "import re  # Regular expression module\n",
        "\n",
        "# Read the Excel file\n",
        "file_path = 'excel_file.xlsx'  # Replace with Excel file path\n",
        "df = pd.read_excel(file_path)\n",
        "\n",
        "# List the columns to delete (by name)\n",
        "columns_to_delete = ['GL Date']  # Delete the 'GL Date' column  - add more on Monday to test\n",
        "\n",
        "# Delete specified columns if they exist in the sheet\n",
        "df = df.drop(columns=[col for col in columns_to_delete if col in df.columns], errors='ignore')\n",
        "\n",
        "# Function to extract the numeric value from a string (text format)\n",
        "def extract_numeric_value(text):\n",
        "    # Use regex to find the first numeric part (this can be adjusted for different patterns)\n",
        "    match = re.search(r'(\\d+\\.?\\d*)', str(text))\n",
        "    if match:\n",
        "        return float(match.group(1))  # Return as float\n",
        "    return None  # Return None if no numeric part is found\n",
        "\n",
        "# If 'Account' column exists, extract numeric values and filter\n",
        "if 'Account' in df.columns:\n",
        "    # Extract numeric values from the 'Account' column (assumed to be in text format)\n",
        "    df['Account_numeric'] = df['Account'].apply(extract_numeric_value)\n",
        "\n",
        "    # Filter rows where the extracted numeric value is greater than 1500 (check < 1500 range Monday)\n",
        "    df = df[df['Account_numeric'] > 1500]\n",
        "\n",
        "    # Drop the temporary 'Account_numeric' column after filtering\n",
        "    df = df.drop(columns=['Account_numeric'])\n",
        "\n",
        "# Write the modified data back to new Excel file\n",
        "output_file_path = 'filtered_excel_file.xlsx'  # Output path for the new Excel file\n",
        "df.to_excel(output_file_path, index=False)\n",
        "\n",
        "print(f\"Filtered Excel file saved to: {output_file_path}\")"
      ]
    }
  ]
}