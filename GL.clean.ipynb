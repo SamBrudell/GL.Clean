{
  "nbformat": 4,
  "nbformat_minor": 0,
  "metadata": {
    "colab": {
      "provenance": [],
      "authorship_tag": "ABX9TyNh+w9AQyaQz3BqAdL2qlWB",
      "include_colab_link": true
    },
    "kernelspec": {
      "name": "python3",
      "display_name": "Python 3"
    },
    "language_info": {
      "name": "python"
    }
  },
  "cells": [
    {
      "cell_type": "markdown",
      "metadata": {
        "id": "view-in-github",
        "colab_type": "text"
      },
      "source": [
        "<a href=\"https://colab.research.google.com/github/SamBrudell/GL.Clean/blob/main/GL.clean.ipynb\" target=\"_parent\"><img src=\"https://colab.research.google.com/assets/colab-badge.svg\" alt=\"Open In Colab\"/></a>"
      ]
    },
    {
      "cell_type": "code",
      "source": [
        "# Step 1: Install required libraries\n",
        "!pip install pandas openpyxl\n",
        "\n",
        "# Step 2: Import necessary libraries\n",
        "import pandas as pd\n",
        "from google.colab import files\n",
        "\n",
        "# Step 3: Upload the Excel file\n",
        "uploaded = files.upload()\n",
        "\n",
        "# Step 4: Load the Excel file into a pandas DataFrame\n",
        "df = pd.read_excel('your_file.xlsx', sheet_name='Sheet1')\n",
        "\n",
        "# Step 5: View the first few rows of the data\n",
        "df.head()\n",
        "\n",
        "# Step 6: Drop specific columns (e.g., 'ColumnB' and 'ColumnC')\n",
        "df = df.drop(columns=['ColumnB', 'ColumnC'])\n",
        "\n",
        "# Step 7: View the cleaned DataFrame\n",
        "df.head()\n",
        "\n",
        "# Step 8: Save the cleaned data to a new Excel file\n",
        "df.to_excel('cleaned_data.xlsx', index=False)\n",
        "\n",
        "# Step 9: Provide a link to download the cleaned file\n",
        "files.download('cleaned_data.xlsx')"
      ],
      "metadata": {
        "id": "HPOqygj3IkCA"
      },
      "execution_count": null,
      "outputs": []
    }
  ]
}